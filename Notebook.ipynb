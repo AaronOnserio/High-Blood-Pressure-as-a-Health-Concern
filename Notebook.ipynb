{
 "cells": [
  {
   "cell_type": "markdown",
   "metadata": {},
   "source": [
    "## Study overview:\n",
    "High blood pressure is an important public health concern because it is highly prevalent and risk factor for adverse health outcomes, including coronary heart disease, stroke, decompensated heart failure, chronic kidney disease, and decline in cognitive function, and death. A study was conducted with two strategies, one with the standard target of systolic blood pressure 140mmHg (standard treatment), and the other targets a more intensive target of systolic blood pressure 120mmg (intensive treatment).\n"
   ]
  },
  {
   "cell_type": "markdown",
   "metadata": {},
   "source": [
    "## Data Domain:\n",
    "ID: patient ID\n",
    "\n",
    "Treat: 1: Intensive treatment, 0: Standard treatment\n",
    "\n",
    "Age: Patient age at baseline in years\n",
    "\n",
    "Gender: 1: Female, 0: Male\n",
    "\n",
    "Smoking: Smoking Status, 1: Yes, 0: No\n",
    "\n",
    "Triglycerides: Basiline Triglycerides mg/dL\n",
    "\n",
    "BMI: Baseline Body Mass Index kg/m2\n",
    "\n",
    "total_DDD: Baseline defined daily dosage of antihypertensive medications\n",
    "\n",
    "Death: All Cause Mortality in the follow-up time period. 1: Death, 0: Alive\n",
    "\n",
    "Time: Follow-up time (years) or time to death from enrollment.\n"
   ]
  },
  {
   "cell_type": "markdown",
   "metadata": {},
   "source": [
    "## Importing Necessary Libraries"
   ]
  },
  {
   "cell_type": "code",
   "execution_count": 1,
   "metadata": {},
   "outputs": [
    {
     "name": "stdout",
     "output_type": "stream",
     "text": [
      "0.27.8\n"
     ]
    }
   ],
   "source": [
    "import lifelines\n",
    "print(lifelines.__version__)\n"
   ]
  },
  {
   "cell_type": "code",
   "execution_count": 2,
   "metadata": {},
   "outputs": [],
   "source": [
    "# importing necessary libraries\n",
    "import numpy as np \n",
    "import pandas as pd \n",
    "import matplotlib.pyplot as plt \n",
    "import seaborn as sns \n",
    "%matplotlib inline \n",
    "\n",
    "from lifelines import KaplanMeierFitter\n",
    "from lifelines.statistics import logrank_test\n",
    "from lifelines import CoxPHFitter\n",
    "from lifelines.statistics import proportional_hazard_test\n",
    "\n"
   ]
  },
  {
   "cell_type": "markdown",
   "metadata": {},
   "source": [
    "## Loading Data"
   ]
  },
  {
   "cell_type": "code",
   "execution_count": 3,
   "metadata": {},
   "outputs": [
    {
     "data": {
      "text/html": [
       "<div>\n",
       "<style scoped>\n",
       "    .dataframe tbody tr th:only-of-type {\n",
       "        vertical-align: middle;\n",
       "    }\n",
       "\n",
       "    .dataframe tbody tr th {\n",
       "        vertical-align: top;\n",
       "    }\n",
       "\n",
       "    .dataframe thead th {\n",
       "        text-align: right;\n",
       "    }\n",
       "</style>\n",
       "<table border=\"1\" class=\"dataframe\">\n",
       "  <thead>\n",
       "    <tr style=\"text-align: right;\">\n",
       "      <th></th>\n",
       "      <th>ID</th>\n",
       "      <th>Treat</th>\n",
       "      <th>Age</th>\n",
       "      <th>Gender</th>\n",
       "      <th>Smoking</th>\n",
       "      <th>Triglycerides</th>\n",
       "      <th>BMI</th>\n",
       "      <th>total_DDD</th>\n",
       "      <th>Death</th>\n",
       "      <th>Time</th>\n",
       "    </tr>\n",
       "  </thead>\n",
       "  <tbody>\n",
       "    <tr>\n",
       "      <th>0</th>\n",
       "      <td>S00007</td>\n",
       "      <td>0</td>\n",
       "      <td>59</td>\n",
       "      <td>0</td>\n",
       "      <td>1.0</td>\n",
       "      <td>92.0</td>\n",
       "      <td>33.115032</td>\n",
       "      <td>3.500000</td>\n",
       "      <td>0</td>\n",
       "      <td>5.08</td>\n",
       "    </tr>\n",
       "    <tr>\n",
       "      <th>1</th>\n",
       "      <td>S00010</td>\n",
       "      <td>0</td>\n",
       "      <td>75</td>\n",
       "      <td>0</td>\n",
       "      <td>0.0</td>\n",
       "      <td>188.0</td>\n",
       "      <td>28.842233</td>\n",
       "      <td>0.666667</td>\n",
       "      <td>0</td>\n",
       "      <td>3.63</td>\n",
       "    </tr>\n",
       "    <tr>\n",
       "      <th>2</th>\n",
       "      <td>S00022</td>\n",
       "      <td>1</td>\n",
       "      <td>56</td>\n",
       "      <td>1</td>\n",
       "      <td>0.0</td>\n",
       "      <td>183.0</td>\n",
       "      <td>24.888232</td>\n",
       "      <td>3.666667</td>\n",
       "      <td>0</td>\n",
       "      <td>2.00</td>\n",
       "    </tr>\n",
       "    <tr>\n",
       "      <th>3</th>\n",
       "      <td>S00038</td>\n",
       "      <td>1</td>\n",
       "      <td>62</td>\n",
       "      <td>0</td>\n",
       "      <td>0.0</td>\n",
       "      <td>125.0</td>\n",
       "      <td>33.642888</td>\n",
       "      <td>2.500000</td>\n",
       "      <td>0</td>\n",
       "      <td>3.65</td>\n",
       "    </tr>\n",
       "    <tr>\n",
       "      <th>4</th>\n",
       "      <td>S00045</td>\n",
       "      <td>0</td>\n",
       "      <td>75</td>\n",
       "      <td>1</td>\n",
       "      <td>0.0</td>\n",
       "      <td>109.0</td>\n",
       "      <td>29.337722</td>\n",
       "      <td>1.020833</td>\n",
       "      <td>0</td>\n",
       "      <td>3.79</td>\n",
       "    </tr>\n",
       "  </tbody>\n",
       "</table>\n",
       "</div>"
      ],
      "text/plain": [
       "       ID  Treat  Age  Gender  Smoking  Triglycerides        BMI  total_DDD  \\\n",
       "0  S00007      0   59       0      1.0           92.0  33.115032   3.500000   \n",
       "1  S00010      0   75       0      0.0          188.0  28.842233   0.666667   \n",
       "2  S00022      1   56       1      0.0          183.0  24.888232   3.666667   \n",
       "3  S00038      1   62       0      0.0          125.0  33.642888   2.500000   \n",
       "4  S00045      0   75       1      0.0          109.0  29.337722   1.020833   \n",
       "\n",
       "   Death  Time  \n",
       "0      0  5.08  \n",
       "1      0  3.63  \n",
       "2      0  2.00  \n",
       "3      0  3.65  \n",
       "4      0  3.79  "
      ]
     },
     "execution_count": 3,
     "metadata": {},
     "output_type": "execute_result"
    }
   ],
   "source": [
    "# Loading Data\n",
    "data = pd.read_csv('BPIntensiveZZ-2.csv')\n",
    "\n",
    "# Display the first few elements of the dataset\n",
    "data.head()"
   ]
  },
  {
   "cell_type": "code",
   "execution_count": 4,
   "metadata": {},
   "outputs": [
    {
     "data": {
      "text/html": [
       "<div>\n",
       "<style scoped>\n",
       "    .dataframe tbody tr th:only-of-type {\n",
       "        vertical-align: middle;\n",
       "    }\n",
       "\n",
       "    .dataframe tbody tr th {\n",
       "        vertical-align: top;\n",
       "    }\n",
       "\n",
       "    .dataframe thead th {\n",
       "        text-align: right;\n",
       "    }\n",
       "</style>\n",
       "<table border=\"1\" class=\"dataframe\">\n",
       "  <thead>\n",
       "    <tr style=\"text-align: right;\">\n",
       "      <th></th>\n",
       "      <th>ID</th>\n",
       "      <th>Treat</th>\n",
       "      <th>Age</th>\n",
       "      <th>Gender</th>\n",
       "      <th>Smoking</th>\n",
       "      <th>Triglycerides</th>\n",
       "      <th>BMI</th>\n",
       "      <th>total_DDD</th>\n",
       "      <th>Death</th>\n",
       "      <th>Time</th>\n",
       "    </tr>\n",
       "  </thead>\n",
       "  <tbody>\n",
       "    <tr>\n",
       "      <th>9303</th>\n",
       "      <td>S99969</td>\n",
       "      <td>0</td>\n",
       "      <td>78</td>\n",
       "      <td>1</td>\n",
       "      <td>0.0</td>\n",
       "      <td>74.0</td>\n",
       "      <td>27.186396</td>\n",
       "      <td>1.708333</td>\n",
       "      <td>1</td>\n",
       "      <td>2.12</td>\n",
       "    </tr>\n",
       "    <tr>\n",
       "      <th>9304</th>\n",
       "      <td>S99974</td>\n",
       "      <td>0</td>\n",
       "      <td>85</td>\n",
       "      <td>1</td>\n",
       "      <td>0.0</td>\n",
       "      <td>95.0</td>\n",
       "      <td>42.191782</td>\n",
       "      <td>1.666667</td>\n",
       "      <td>1</td>\n",
       "      <td>3.76</td>\n",
       "    </tr>\n",
       "    <tr>\n",
       "      <th>9305</th>\n",
       "      <td>S99983</td>\n",
       "      <td>0</td>\n",
       "      <td>66</td>\n",
       "      <td>0</td>\n",
       "      <td>0.0</td>\n",
       "      <td>75.0</td>\n",
       "      <td>19.461922</td>\n",
       "      <td>0.000000</td>\n",
       "      <td>0</td>\n",
       "      <td>4.42</td>\n",
       "    </tr>\n",
       "    <tr>\n",
       "      <th>9306</th>\n",
       "      <td>S99992</td>\n",
       "      <td>1</td>\n",
       "      <td>56</td>\n",
       "      <td>1</td>\n",
       "      <td>0.0</td>\n",
       "      <td>369.0</td>\n",
       "      <td>35.579255</td>\n",
       "      <td>0.000000</td>\n",
       "      <td>0</td>\n",
       "      <td>2.02</td>\n",
       "    </tr>\n",
       "    <tr>\n",
       "      <th>9307</th>\n",
       "      <td>S99997</td>\n",
       "      <td>1</td>\n",
       "      <td>68</td>\n",
       "      <td>1</td>\n",
       "      <td>0.0</td>\n",
       "      <td>71.0</td>\n",
       "      <td>30.782856</td>\n",
       "      <td>1.000000</td>\n",
       "      <td>0</td>\n",
       "      <td>4.77</td>\n",
       "    </tr>\n",
       "  </tbody>\n",
       "</table>\n",
       "</div>"
      ],
      "text/plain": [
       "          ID  Treat  Age  Gender  Smoking  Triglycerides        BMI  \\\n",
       "9303  S99969      0   78       1      0.0           74.0  27.186396   \n",
       "9304  S99974      0   85       1      0.0           95.0  42.191782   \n",
       "9305  S99983      0   66       0      0.0           75.0  19.461922   \n",
       "9306  S99992      1   56       1      0.0          369.0  35.579255   \n",
       "9307  S99997      1   68       1      0.0           71.0  30.782856   \n",
       "\n",
       "      total_DDD  Death  Time  \n",
       "9303   1.708333      1  2.12  \n",
       "9304   1.666667      1  3.76  \n",
       "9305   0.000000      0  4.42  \n",
       "9306   0.000000      0  2.02  \n",
       "9307   1.000000      0  4.77  "
      ]
     },
     "execution_count": 4,
     "metadata": {},
     "output_type": "execute_result"
    }
   ],
   "source": [
    "# Display the last few rows of the dataset\n",
    "data.tail()"
   ]
  },
  {
   "cell_type": "markdown",
   "metadata": {},
   "source": [
    "The dataset contains the following key columns relevant to performing the Kaplan-Meier survival analysis:\n",
    "\n",
    "`Treat`: Represents the treatment group (0 for standard, 1 for intensive treatment).\n",
    "\n",
    "`Time`: The duration of time until an event (e.g., death) or censoring.\n",
    "\n",
    "`Death`: The event indicator (1 for death/event, 0 for censored).\n",
    "    \n",
    "Other demographic and health variables such as `Age`, `Gender`, `Smoking`, `BMI`, `ID` and `total_DDD`."
   ]
  },
  {
   "cell_type": "markdown",
   "metadata": {},
   "source": [
    "#### Data understanding\n",
    "1. Getting familiar with the data. How many observations and variables (which type) are in the dataset?"
   ]
  },
  {
   "cell_type": "code",
   "execution_count": 5,
   "metadata": {},
   "outputs": [
    {
     "name": "stdout",
     "output_type": "stream",
     "text": [
      "Data types of each column is:\n",
      "-----------------------------\n"
     ]
    },
    {
     "data": {
      "text/plain": [
       "ID                object\n",
       "Treat              int64\n",
       "Age                int64\n",
       "Gender             int64\n",
       "Smoking          float64\n",
       "Triglycerides    float64\n",
       "BMI              float64\n",
       "total_DDD        float64\n",
       "Death              int64\n",
       "Time             float64\n",
       "dtype: object"
      ]
     },
     "execution_count": 5,
     "metadata": {},
     "output_type": "execute_result"
    }
   ],
   "source": [
    "# Displa the data types in the dataset\n",
    "print(\"Data types of each column is:\")\n",
    "print('-----------------------------')\n",
    "data.dtypes"
   ]
  },
  {
   "cell_type": "markdown",
   "metadata": {},
   "source": [
    "All the attributes of the dataset are numerical i.e., integers and floats except the ID colum that contain the patients' identification numbers which is categorical."
   ]
  },
  {
   "cell_type": "code",
   "execution_count": 6,
   "metadata": {},
   "outputs": [
    {
     "name": "stdout",
     "output_type": "stream",
     "text": [
      "The Dimension of the Dataset\n",
      "----------------------------\n"
     ]
    },
    {
     "data": {
      "text/plain": [
       "(9308, 10)"
      ]
     },
     "execution_count": 6,
     "metadata": {},
     "output_type": "execute_result"
    }
   ],
   "source": [
    "# Displaying the dimension of the dataset\n",
    "print(\"The Dimension of the Dataset\")\n",
    "print(\"----------------------------\")\n",
    "data.shape"
   ]
  },
  {
   "cell_type": "markdown",
   "metadata": {},
   "source": [
    "Thee provide data has 9308 ros and 10 columns in the data set "
   ]
  },
  {
   "cell_type": "code",
   "execution_count": 7,
   "metadata": {},
   "outputs": [
    {
     "name": "stdout",
     "output_type": "stream",
     "text": [
      "List of the names in the Dataset\n",
      "--------------------------------\n"
     ]
    },
    {
     "data": {
      "text/plain": [
       "Index(['ID', 'Treat', 'Age', 'Gender', 'Smoking', 'Triglycerides', 'BMI',\n",
       "       'total_DDD', 'Death', 'Time'],\n",
       "      dtype='object')"
      ]
     },
     "execution_count": 7,
     "metadata": {},
     "output_type": "execute_result"
    }
   ],
   "source": [
    "# Displaying the columns in the data set\n",
    "print(\"List of the names in the Dataset\")\n",
    "print(\"--------------------------------\")\n",
    "data.columns"
   ]
  },
  {
   "cell_type": "code",
   "execution_count": 8,
   "metadata": {},
   "outputs": [
    {
     "name": "stdout",
     "output_type": "stream",
     "text": [
      "General information of the Dataset\n",
      "----------------------------------\n",
      "<class 'pandas.core.frame.DataFrame'>\n",
      "RangeIndex: 9308 entries, 0 to 9307\n",
      "Data columns (total 10 columns):\n",
      " #   Column         Non-Null Count  Dtype  \n",
      "---  ------         --------------  -----  \n",
      " 0   ID             9308 non-null   object \n",
      " 1   Treat          9308 non-null   int64  \n",
      " 2   Age            9308 non-null   int64  \n",
      " 3   Gender         9308 non-null   int64  \n",
      " 4   Smoking        9297 non-null   float64\n",
      " 5   Triglycerides  9286 non-null   float64\n",
      " 6   BMI            9247 non-null   float64\n",
      " 7   total_DDD      9261 non-null   float64\n",
      " 8   Death          9308 non-null   int64  \n",
      " 9   Time           9308 non-null   float64\n",
      "dtypes: float64(5), int64(4), object(1)\n",
      "memory usage: 727.3+ KB\n"
     ]
    }
   ],
   "source": [
    "## Displating the general information of the whole dataset\n",
    "print(\"General information of the Dataset\")\n",
    "print(\"----------------------------------\")\n",
    "data.info()"
   ]
  },
  {
   "cell_type": "markdown",
   "metadata": {},
   "source": [
    "The above results shows that we have some missing values in the columns of Smoking, Triglycerides, BMI and total_DDD."
   ]
  },
  {
   "cell_type": "code",
   "execution_count": 9,
   "metadata": {},
   "outputs": [
    {
     "name": "stdout",
     "output_type": "stream",
     "text": [
      "Statistical Summary of the Datase:\n",
      "----------------------------------\n"
     ]
    },
    {
     "data": {
      "text/html": [
       "<div>\n",
       "<style scoped>\n",
       "    .dataframe tbody tr th:only-of-type {\n",
       "        vertical-align: middle;\n",
       "    }\n",
       "\n",
       "    .dataframe tbody tr th {\n",
       "        vertical-align: top;\n",
       "    }\n",
       "\n",
       "    .dataframe thead th {\n",
       "        text-align: right;\n",
       "    }\n",
       "</style>\n",
       "<table border=\"1\" class=\"dataframe\">\n",
       "  <thead>\n",
       "    <tr style=\"text-align: right;\">\n",
       "      <th></th>\n",
       "      <th>Treat</th>\n",
       "      <th>Age</th>\n",
       "      <th>Gender</th>\n",
       "      <th>Smoking</th>\n",
       "      <th>Triglycerides</th>\n",
       "      <th>BMI</th>\n",
       "      <th>total_DDD</th>\n",
       "      <th>Death</th>\n",
       "      <th>Time</th>\n",
       "    </tr>\n",
       "  </thead>\n",
       "  <tbody>\n",
       "    <tr>\n",
       "      <th>count</th>\n",
       "      <td>9308.000000</td>\n",
       "      <td>9308.000000</td>\n",
       "      <td>9308.000000</td>\n",
       "      <td>9297.000000</td>\n",
       "      <td>9286.000000</td>\n",
       "      <td>9247.000000</td>\n",
       "      <td>9261.000000</td>\n",
       "      <td>9308.000000</td>\n",
       "      <td>9308.000000</td>\n",
       "    </tr>\n",
       "    <tr>\n",
       "      <th>mean</th>\n",
       "      <td>0.499785</td>\n",
       "      <td>67.885260</td>\n",
       "      <td>0.355393</td>\n",
       "      <td>0.132839</td>\n",
       "      <td>125.961986</td>\n",
       "      <td>29.856788</td>\n",
       "      <td>2.576614</td>\n",
       "      <td>0.040288</td>\n",
       "      <td>3.671146</td>\n",
       "    </tr>\n",
       "    <tr>\n",
       "      <th>std</th>\n",
       "      <td>0.500027</td>\n",
       "      <td>9.416873</td>\n",
       "      <td>0.478658</td>\n",
       "      <td>0.339418</td>\n",
       "      <td>89.943515</td>\n",
       "      <td>5.767093</td>\n",
       "      <td>2.104557</td>\n",
       "      <td>0.196644</td>\n",
       "      <td>1.045293</td>\n",
       "    </tr>\n",
       "    <tr>\n",
       "      <th>min</th>\n",
       "      <td>0.000000</td>\n",
       "      <td>46.000000</td>\n",
       "      <td>0.000000</td>\n",
       "      <td>0.000000</td>\n",
       "      <td>23.000000</td>\n",
       "      <td>13.734211</td>\n",
       "      <td>0.000000</td>\n",
       "      <td>0.000000</td>\n",
       "      <td>0.000000</td>\n",
       "    </tr>\n",
       "    <tr>\n",
       "      <th>25%</th>\n",
       "      <td>0.000000</td>\n",
       "      <td>61.000000</td>\n",
       "      <td>0.000000</td>\n",
       "      <td>0.000000</td>\n",
       "      <td>77.000000</td>\n",
       "      <td>25.881587</td>\n",
       "      <td>1.000000</td>\n",
       "      <td>0.000000</td>\n",
       "      <td>3.300000</td>\n",
       "    </tr>\n",
       "    <tr>\n",
       "      <th>50%</th>\n",
       "      <td>0.000000</td>\n",
       "      <td>67.000000</td>\n",
       "      <td>0.000000</td>\n",
       "      <td>0.000000</td>\n",
       "      <td>107.000000</td>\n",
       "      <td>29.023675</td>\n",
       "      <td>2.000000</td>\n",
       "      <td>0.000000</td>\n",
       "      <td>3.800000</td>\n",
       "    </tr>\n",
       "    <tr>\n",
       "      <th>75%</th>\n",
       "      <td>1.000000</td>\n",
       "      <td>75.000000</td>\n",
       "      <td>1.000000</td>\n",
       "      <td>0.000000</td>\n",
       "      <td>150.000000</td>\n",
       "      <td>32.914327</td>\n",
       "      <td>3.666667</td>\n",
       "      <td>0.000000</td>\n",
       "      <td>4.350000</td>\n",
       "    </tr>\n",
       "    <tr>\n",
       "      <th>max</th>\n",
       "      <td>1.000000</td>\n",
       "      <td>96.000000</td>\n",
       "      <td>1.000000</td>\n",
       "      <td>1.000000</td>\n",
       "      <td>3340.000000</td>\n",
       "      <td>69.591010</td>\n",
       "      <td>22.000000</td>\n",
       "      <td>1.000000</td>\n",
       "      <td>5.490000</td>\n",
       "    </tr>\n",
       "  </tbody>\n",
       "</table>\n",
       "</div>"
      ],
      "text/plain": [
       "             Treat          Age       Gender      Smoking  Triglycerides  \\\n",
       "count  9308.000000  9308.000000  9308.000000  9297.000000    9286.000000   \n",
       "mean      0.499785    67.885260     0.355393     0.132839     125.961986   \n",
       "std       0.500027     9.416873     0.478658     0.339418      89.943515   \n",
       "min       0.000000    46.000000     0.000000     0.000000      23.000000   \n",
       "25%       0.000000    61.000000     0.000000     0.000000      77.000000   \n",
       "50%       0.000000    67.000000     0.000000     0.000000     107.000000   \n",
       "75%       1.000000    75.000000     1.000000     0.000000     150.000000   \n",
       "max       1.000000    96.000000     1.000000     1.000000    3340.000000   \n",
       "\n",
       "               BMI    total_DDD        Death         Time  \n",
       "count  9247.000000  9261.000000  9308.000000  9308.000000  \n",
       "mean     29.856788     2.576614     0.040288     3.671146  \n",
       "std       5.767093     2.104557     0.196644     1.045293  \n",
       "min      13.734211     0.000000     0.000000     0.000000  \n",
       "25%      25.881587     1.000000     0.000000     3.300000  \n",
       "50%      29.023675     2.000000     0.000000     3.800000  \n",
       "75%      32.914327     3.666667     0.000000     4.350000  \n",
       "max      69.591010    22.000000     1.000000     5.490000  "
      ]
     },
     "execution_count": 9,
     "metadata": {},
     "output_type": "execute_result"
    }
   ],
   "source": [
    "# Display the general information about the data set using describe function\n",
    "print(\"Statistical Summary of the Datase:\")\n",
    "print(\"----------------------------------\")\n",
    "data.describe()"
   ]
  },
  {
   "cell_type": "code",
   "execution_count": 10,
   "metadata": {},
   "outputs": [
    {
     "name": "stdout",
     "output_type": "stream",
     "text": [
      "No duplicated rows found.\n"
     ]
    }
   ],
   "source": [
    "def handle_duplicates(data):\n",
    "    \"\"\"\n",
    "    Checks for duplicated rows, displays the duplicated values,\n",
    "    and removes the duplicated rows while keeping the first occurrence.\n",
    "    \"\"\"\n",
    "    # Check for duplicated rows\n",
    "    duplicated_rows = data[data.duplicated()]\n",
    "\n",
    "    if not duplicated_rows.empty:\n",
    "        # Display the duplicated rows\n",
    "        print(\"These are the Duplicated rows in the Dataset:\")\n",
    "        print('--------------------------------------------------')\n",
    "        print(duplicated_rows)\n",
    "        print(\"\\n\")\n",
    "\n",
    "        # Remove duplicated rows but keep the first occurrence (inplace)\n",
    "        data.drop_duplicates(keep='first', inplace=True)\n",
    "\n",
    "        # Display the number of duplicates removed\n",
    "        num_duplicates = len(duplicated_rows)\n",
    "        print(f\"Number of duplicates removed: {num_duplicates}\")\n",
    "    else:\n",
    "        print(\"No duplicated rows found.\")\n",
    "handle_duplicates(data)\n"
   ]
  },
  {
   "cell_type": "markdown",
   "metadata": {},
   "source": [
    "There are no duplicated rows in the dataset."
   ]
  },
  {
   "cell_type": "code",
   "execution_count": 11,
   "metadata": {},
   "outputs": [
    {
     "name": "stdout",
     "output_type": "stream",
     "text": [
      "Missing values:\n",
      " ID                0\n",
      "Treat             0\n",
      "Age               0\n",
      "Gender            0\n",
      "Smoking          11\n",
      "Triglycerides    22\n",
      "BMI              61\n",
      "total_DDD        47\n",
      "Death             0\n",
      "Time              0\n",
      "dtype: int64\n",
      "\n",
      "Percentage of missing values:\n",
      " ID               0.000000\n",
      "Treat            0.000000\n",
      "Age              0.000000\n",
      "Gender           0.000000\n",
      "Smoking          0.118178\n",
      "Triglycerides    0.236356\n",
      "BMI              0.655350\n",
      "total_DDD        0.504942\n",
      "Death            0.000000\n",
      "Time             0.000000\n",
      "dtype: float64\n"
     ]
    },
    {
     "data": {
      "text/html": [
       "<div>\n",
       "<style scoped>\n",
       "    .dataframe tbody tr th:only-of-type {\n",
       "        vertical-align: middle;\n",
       "    }\n",
       "\n",
       "    .dataframe tbody tr th {\n",
       "        vertical-align: top;\n",
       "    }\n",
       "\n",
       "    .dataframe thead th {\n",
       "        text-align: right;\n",
       "    }\n",
       "</style>\n",
       "<table border=\"1\" class=\"dataframe\">\n",
       "  <thead>\n",
       "    <tr style=\"text-align: right;\">\n",
       "      <th></th>\n",
       "      <th>Missing Values</th>\n",
       "      <th>Percentage</th>\n",
       "    </tr>\n",
       "  </thead>\n",
       "  <tbody>\n",
       "    <tr>\n",
       "      <th>ID</th>\n",
       "      <td>0</td>\n",
       "      <td>0.000000</td>\n",
       "    </tr>\n",
       "    <tr>\n",
       "      <th>Treat</th>\n",
       "      <td>0</td>\n",
       "      <td>0.000000</td>\n",
       "    </tr>\n",
       "    <tr>\n",
       "      <th>Age</th>\n",
       "      <td>0</td>\n",
       "      <td>0.000000</td>\n",
       "    </tr>\n",
       "    <tr>\n",
       "      <th>Gender</th>\n",
       "      <td>0</td>\n",
       "      <td>0.000000</td>\n",
       "    </tr>\n",
       "    <tr>\n",
       "      <th>Smoking</th>\n",
       "      <td>11</td>\n",
       "      <td>0.118178</td>\n",
       "    </tr>\n",
       "    <tr>\n",
       "      <th>Triglycerides</th>\n",
       "      <td>22</td>\n",
       "      <td>0.236356</td>\n",
       "    </tr>\n",
       "    <tr>\n",
       "      <th>BMI</th>\n",
       "      <td>61</td>\n",
       "      <td>0.655350</td>\n",
       "    </tr>\n",
       "    <tr>\n",
       "      <th>total_DDD</th>\n",
       "      <td>47</td>\n",
       "      <td>0.504942</td>\n",
       "    </tr>\n",
       "    <tr>\n",
       "      <th>Death</th>\n",
       "      <td>0</td>\n",
       "      <td>0.000000</td>\n",
       "    </tr>\n",
       "    <tr>\n",
       "      <th>Time</th>\n",
       "      <td>0</td>\n",
       "      <td>0.000000</td>\n",
       "    </tr>\n",
       "  </tbody>\n",
       "</table>\n",
       "</div>"
      ],
      "text/plain": [
       "               Missing Values  Percentage\n",
       "ID                          0    0.000000\n",
       "Treat                       0    0.000000\n",
       "Age                         0    0.000000\n",
       "Gender                      0    0.000000\n",
       "Smoking                    11    0.118178\n",
       "Triglycerides              22    0.236356\n",
       "BMI                        61    0.655350\n",
       "total_DDD                  47    0.504942\n",
       "Death                       0    0.000000\n",
       "Time                        0    0.000000"
      ]
     },
     "execution_count": 11,
     "metadata": {},
     "output_type": "execute_result"
    }
   ],
   "source": [
    "# Defining a function that will calculate and display missing values in the dataset\n",
    "def missing_values(data):\n",
    "    \n",
    "    # Calculate missing values\n",
    "    missing_values = data.isnull().sum()\n",
    "\n",
    "    # Display missing values\n",
    "    print(\"Missing values:\\n\", missing_values)\n",
    "    \n",
    "    # Calculated the percentage of missing values\n",
    "    percentage_missing = (missing_values / len(data)) * 100\n",
    "\n",
    "    # Display the percentage of missing values\n",
    "    print(\"\\nPercentage of missing values:\\n\", percentage_missing)\n",
    "    \n",
    "    # Display the missing values in a DataFrame\n",
    "    missing_values_df = pd.DataFrame({'Missing Values': missing_values, 'Percentage': percentage_missing})\n",
    "\n",
    "    return missing_values_df\n",
    "missing_values(data)"
   ]
  },
  {
   "cell_type": "markdown",
   "metadata": {},
   "source": [
    "The analysis reveals missing values across several columns. The Smoking variable has 11 missing entries, representing 0.118% of the total dataset. The Triglycerides column contains 22 missing values, accounting for 0.236% of the data. The BMI column has 61 missing entries, equivalent to 0.655%, and the total_DDD column has 47 missing values, making up 0.505% of the dataset."
   ]
  },
  {
   "cell_type": "markdown",
   "metadata": {},
   "source": [
    "2. Estimate the survival curves using the Kaplan–Meier method for each treatment strategy. Show your survival data with censored time, and perform a test for possible differences, i.e., conduct a suitable test to examine the effect of intensive treatment.  "
   ]
  },
  {
   "cell_type": "markdown",
   "metadata": {},
   "source": [
    "#### Initialize the KaplanMeierFitter Model and fit the model"
   ]
  },
  {
   "cell_type": "code",
   "execution_count": 12,
   "metadata": {},
   "outputs": [
    {
     "data": {
      "text/plain": [
       "<lifelines.KaplanMeierFitter:\"Intensive Treatment\", fitted with 4652 total observations, 4490 right-censored observations>"
      ]
     },
     "execution_count": 12,
     "metadata": {},
     "output_type": "execute_result"
    }
   ],
   "source": [
    "# Displaying the reqiured columns for analysis\n",
    "time = data['Time']\n",
    "event = data['Death']\n",
    "treatment = data['Treat']\n",
    "\n",
    "# Initializing KaplanMeierFitter function\n",
    "kmf_standard = KaplanMeierFitter()\n",
    "kmf_intensive = KaplanMeierFitter()\n",
    "\n",
    "# Fitting the Kaplan-Meier model for each treatment in the dataset\n",
    "kmf_standard.fit(durations=time[treatment == 0], event_observed=event[treatment == 0], label='Standard Treatment')\n",
    "kmf_intensive.fit(durations=time[treatment == 1], event_observed=event[treatment == 1], label='Intensive Treatment')\n"
   ]
  },
  {
   "cell_type": "markdown",
   "metadata": {},
   "source": [
    "### Plotting the survival curves for both time and probability of surviving"
   ]
  },
  {
   "cell_type": "code",
   "execution_count": 13,
   "metadata": {},
   "outputs": [
    {
     "data": {
      "image/png": "[encoded data removed]",
      "text/plain": [
       "<Figure size 1000x600 with 1 Axes>"
      ]
     },
     "metadata": {},
     "output_type": "display_data"
    }
   ],
   "source": [
    "# Defining th figure sie and font for better reading of the plots\n",
    "plt.figure(figsize=(10, 6))\n",
    "\n",
    "# Plotting the Kaplan-Meier survival curves for each treatment group\n",
    "kmf_standard.plot_survival_function()\n",
    "kmf_intensive.plot_survival_function()\n",
    "\n",
    "# Define the title of the plot, x and y axis labels, then show the grid line and plot the graph.\n",
    "plt.title('Kaplan-Meier Survival Curves by Treatment Group')\n",
    "plt.xlabel('Time (Years)')\n",
    "plt.ylabel('Survival Probability')\n",
    "plt.grid(True)\n",
    "plt.show()"
   ]
  },
  {
   "cell_type": "markdown",
   "metadata": {},
   "source": [
    "The Kaplan-Meier survival curves above shows a plot comparing two treatment groups: **Standard Treatment** (blue line) and **Intensive Treatment** (orange line). The vertical axis represents the **Survival Probability**, and the horizontal axis shows the **Time in Years**.\n",
    "\n",
    "From the result above we observe that:\n",
    "- Both treatment groups show a gradual decline in survival probability over time.\n",
    "- The **Intensive Treatment** group has a higher survival probability compared to the Standard Treatment group throughout the follow-up period, as indicated by the higher position of the orange line.\n",
    "- The shaded areas around the curves represent the confidence intervals, showing the uncertainty in the survival estimates for each treatment group.\n",
    "\n",
    "This suggests that the **Intensive Treatment** may lead to better survival outcomes than the Standard Treatment over time."
   ]
  },
  {
   "cell_type": "markdown",
   "metadata": {},
   "source": [
    "#### Log-Rank Test and p-value"
   ]
  },
  {
   "cell_type": "code",
   "execution_count": 14,
   "metadata": {},
   "outputs": [
    {
     "name": "stdout",
     "output_type": "stream",
     "text": [
      "Log-Rank Test p-value: 0.007363742468084002\n",
      "Test Statistic: 7.182028037147042\n"
     ]
    }
   ],
   "source": [
    "# Performing a log-rank test and displaying the p-values and test statistcs\n",
    "logrank_result = logrank_test(time[treatment == 0], time[treatment == 1], event_observed_A=event[treatment == 0], event_observed_B=event[treatment == 1])\n",
    "\n",
    "# Printing the Log-Rank Test p-value from the model result\n",
    "print(f\"Log-Rank Test p-value: {logrank_result.p_value}\")\n",
    "\n",
    "# Printing the Test Statistics from the log-Rank Test\n",
    "print(f\"Test Statistic: {logrank_result.test_statistic}\")\n"
   ]
  },
  {
   "cell_type": "markdown",
   "metadata": {},
   "source": [
    "The **log-rank test** is used to compare the survival distributions of two groups, in this case, the **standard treatment** and **intensive treatment** groups.\n",
    "\n",
    "### Key Results:\n",
    "- **p-value**: 0.00736\n",
    "  - A p-value of 0.00736 indicates that there is a statistically significant difference between the survival curves of the two treatment groups. Since this value is less than the conventional significance level of 0.05, we reject the null hypothesis, which assumes no difference in survival between the two groups.\n",
    "  \n",
    "- **Test Statistic**: 7.18\n",
    "  - The test statistic of 7.18 quantifies the difference between the observed and expected survival times of the two groups. A higher value suggests a greater deviation from the null hypothesis, which again indicates that the survival times between the groups differ significantly.\n",
    "\n",
    "### Conclusion:\n",
    "The results show that there is a statistically significant difference in survival between the **standard treatment** and **intensive treatment** groups, favoring the hypothesis that the treatment strategy has an impact on patient survival."
   ]
  },
  {
   "cell_type": "markdown",
   "metadata": {},
   "source": [
    "3. Conduct Univariate Cox regression to examine the impact of intensive treatment strategy on survival of patients."
   ]
  },
  {
   "cell_type": "code",
   "execution_count": 15,
   "metadata": {},
   "outputs": [
    {
     "data": {
      "text/html": [
       "<div>\n",
       "<style scoped>\n",
       "    .dataframe tbody tr th:only-of-type {\n",
       "        vertical-align: middle;\n",
       "    }\n",
       "\n",
       "    .dataframe tbody tr th {\n",
       "        vertical-align: top;\n",
       "    }\n",
       "\n",
       "    .dataframe thead th {\n",
       "        text-align: right;\n",
       "    }\n",
       "</style>\n",
       "<table border=\"1\" class=\"dataframe\">\n",
       "  <tbody>\n",
       "    <tr>\n",
       "      <th>model</th>\n",
       "      <td>lifelines.CoxPHFitter</td>\n",
       "    </tr>\n",
       "    <tr>\n",
       "      <th>duration col</th>\n",
       "      <td>'duration'</td>\n",
       "    </tr>\n",
       "    <tr>\n",
       "      <th>event col</th>\n",
       "      <td>'event'</td>\n",
       "    </tr>\n",
       "    <tr>\n",
       "      <th>baseline estimation</th>\n",
       "      <td>breslow</td>\n",
       "    </tr>\n",
       "    <tr>\n",
       "      <th>number of observations</th>\n",
       "      <td>9308</td>\n",
       "    </tr>\n",
       "    <tr>\n",
       "      <th>number of events observed</th>\n",
       "      <td>375</td>\n",
       "    </tr>\n",
       "    <tr>\n",
       "      <th>partial log-likelihood</th>\n",
       "      <td>-3383.97</td>\n",
       "    </tr>\n",
       "    <tr>\n",
       "      <th>time fit was run</th>\n",
       "      <td>2024-10-03 23:50:37 UTC</td>\n",
       "    </tr>\n",
       "  </tbody>\n",
       "</table>\n",
       "</div><table border=\"1\" class=\"dataframe\">\n",
       "  <thead>\n",
       "    <tr style=\"text-align: right;\">\n",
       "      <th style=\"min-width: 12px;\"></th>\n",
       "      <th style=\"min-width: 12px;\">coef</th>\n",
       "      <th style=\"min-width: 12px;\">exp(coef)</th>\n",
       "      <th style=\"min-width: 12px;\">se(coef)</th>\n",
       "      <th style=\"min-width: 12px;\">coef lower 95%</th>\n",
       "      <th style=\"min-width: 12px;\">coef upper 95%</th>\n",
       "      <th style=\"min-width: 12px;\">exp(coef) lower 95%</th>\n",
       "      <th style=\"min-width: 12px;\">exp(coef) upper 95%</th>\n",
       "      <th style=\"min-width: 12px;\">cmp to</th>\n",
       "      <th style=\"min-width: 12px;\">z</th>\n",
       "      <th style=\"min-width: 12px;\">p</th>\n",
       "      <th style=\"min-width: 12px;\">-log2(p)</th>\n",
       "    </tr>\n",
       "  </thead>\n",
       "  <tbody>\n",
       "    <tr>\n",
       "      <th>treatment</th>\n",
       "      <td>-0.28</td>\n",
       "      <td>0.76</td>\n",
       "      <td>0.10</td>\n",
       "      <td>-0.48</td>\n",
       "      <td>-0.07</td>\n",
       "      <td>0.62</td>\n",
       "      <td>0.93</td>\n",
       "      <td>0.00</td>\n",
       "      <td>-2.67</td>\n",
       "      <td>0.01</td>\n",
       "      <td>7.05</td>\n",
       "    </tr>\n",
       "  </tbody>\n",
       "</table><br><div>\n",
       "<style scoped>\n",
       "    .dataframe tbody tr th:only-of-type {\n",
       "        vertical-align: middle;\n",
       "    }\n",
       "\n",
       "    .dataframe tbody tr th {\n",
       "        vertical-align: top;\n",
       "    }\n",
       "\n",
       "    .dataframe thead th {\n",
       "        text-align: right;\n",
       "    }\n",
       "</style>\n",
       "<table border=\"1\" class=\"dataframe\">\n",
       "  <tbody>\n",
       "    <tr>\n",
       "      <th>Concordance</th>\n",
       "      <td>0.54</td>\n",
       "    </tr>\n",
       "    <tr>\n",
       "      <th>Partial AIC</th>\n",
       "      <td>6769.93</td>\n",
       "    </tr>\n",
       "    <tr>\n",
       "      <th>log-likelihood ratio test</th>\n",
       "      <td>7.20 on 1 df</td>\n",
       "    </tr>\n",
       "    <tr>\n",
       "      <th>-log2(p) of ll-ratio test</th>\n",
       "      <td>7.10</td>\n",
       "    </tr>\n",
       "  </tbody>\n",
       "</table>\n",
       "</div>"
      ],
      "text/latex": [
       "\\begin{tabular}{lrrrrrrrrrrr}\n",
       " & coef & exp(coef) & se(coef) & coef lower 95% & coef upper 95% & exp(coef) lower 95% & exp(coef) upper 95% & cmp to & z & p & -log2(p) \\\\\n",
       "covariate &  &  &  &  &  &  &  &  &  &  &  \\\\\n",
       "treatment & -0.28 & 0.76 & 0.10 & -0.48 & -0.07 & 0.62 & 0.93 & 0.00 & -2.67 & 0.01 & 7.05 \\\\\n",
       "\\end{tabular}\n"
      ],
      "text/plain": [
       "<lifelines.CoxPHFitter: fitted with 9308 total observations, 8933 right-censored observations>\n",
       "             duration col = 'duration'\n",
       "                event col = 'event'\n",
       "      baseline estimation = breslow\n",
       "   number of observations = 9308\n",
       "number of events observed = 375\n",
       "   partial log-likelihood = -3383.97\n",
       "         time fit was run = 2024-10-03 23:50:37 UTC\n",
       "\n",
       "---\n",
       "            coef  exp(coef)   se(coef)   coef lower 95%   coef upper 95%  exp(coef) lower 95%  exp(coef) upper 95%\n",
       "covariate                                                                                                         \n",
       "treatment  -0.28       0.76       0.10            -0.48            -0.07                 0.62                 0.93\n",
       "\n",
       "            cmp to     z    p   -log2(p)\n",
       "covariate                               \n",
       "treatment     0.00 -2.67 0.01       7.05\n",
       "---\n",
       "Concordance = 0.54\n",
       "Partial AIC = 6769.93\n",
       "log-likelihood ratio test = 7.20 on 1 df\n",
       "-log2(p) of ll-ratio test = 7.10"
      ]
     },
     "metadata": {},
     "output_type": "display_data"
    },
    {
     "data": {
      "text/plain": [
       "<Axes: xlabel='log(HR) (95% CI)'>"
      ]
     },
     "execution_count": 15,
     "metadata": {},
     "output_type": "execute_result"
    },
    {
     "data": {
      "image/png": "[encoded data removed]",
      "text/plain": [
       "<Figure size 640x480 with 1 Axes>"
      ]
     },
     "metadata": {},
     "output_type": "display_data"
    }
   ],
   "source": [
    "\n",
    "\n",
    "# Subset the relevant columns for the Cox regression model\n",
    "df_cox = data[['Time', 'Death', 'Treat']]\n",
    "\n",
    "# Rename columns to ensure compatibility\n",
    "df_cox.columns = ['duration', 'event', 'treatment']\n",
    "\n",
    "# Initialize the CoxPHFitter model\n",
    "cph = CoxPHFitter()\n",
    "\n",
    "# Fit the model using the duration, event, and treatment variables\n",
    "cph.fit(df_cox, duration_col='duration', event_col='event')\n",
    "\n",
    "# Output the summary of the Cox regression model\n",
    "cph.print_summary()\n",
    "\n",
    "# Plot the impact of the treatment variable on survival\n",
    "cph.plot()\n"
   ]
  },
  {
   "cell_type": "markdown",
   "metadata": {},
   "source": [
    "The above output is the results of a **Univariate Cox Proportional-Hazards regression analysis** for the treatment strategy. \n",
    "\n",
    "1. **Coefficient (coef)**: The coefficient for the treatment variable is `-0.28`. This indicates that the treatment is associated with a decrease in the risk of the event (death) compared to the baseline. A negative coefficient suggests a protective effect of the treatment.\n",
    "\n",
    "2. **Hazard Ratio (exp(coef))**: The hazard ratio (HR) is `0.76`. This means that patients in the treatment group have approximately 24% lower risk of death compared to the control group (since 1 - 0.76 = 0.24).\n",
    "\n",
    "3. **Confidence Interval (95% CI)**: The confidence interval for the hazard ratio ranges from `0.62` to `0.93`. Since the interval does not include 1, the treatment appears to have a statistically significant effect on survival.\n",
    "\n",
    "4. **p-value**: The p-value is `0.01`, indicating that the treatment effect is statistically significant at the 5% level. This suggests that the difference in survival between the treatment and control groups is unlikely to have occurred by chance.\n",
    "\n",
    "5. **Log-likelihood ratio test**: The test statistic value is `7.10`, and the associated p-value supports the significance of the treatment effect.\n",
    "\n",
    "### Conclusion:\n",
    "The Cox regression results suggest that the intensive treatment strategy significantly reduces the risk of death. The treatment group has a 24% lower hazard (risk of death) compared to the control group, and this effect is statistically significant with a p-value of 0.01."
   ]
  },
  {
   "cell_type": "markdown",
   "metadata": {},
   "source": [
    "4. Conduct multivariate Cox Regression Analysis to examine the impact of the treatment strategy and other factors on the risk of death using hazard ratios.Conduct multivariate Cox Regression Analysis to examine the impact of the treatment strategy and other factors on the risk of death using hazard ratios."
   ]
  },
  {
   "cell_type": "code",
   "execution_count": 16,
   "metadata": {},
   "outputs": [
    {
     "data": {
      "text/html": [
       "<div>\n",
       "<style scoped>\n",
       "    .dataframe tbody tr th:only-of-type {\n",
       "        vertical-align: middle;\n",
       "    }\n",
       "\n",
       "    .dataframe tbody tr th {\n",
       "        vertical-align: top;\n",
       "    }\n",
       "\n",
       "    .dataframe thead th {\n",
       "        text-align: right;\n",
       "    }\n",
       "</style>\n",
       "<table border=\"1\" class=\"dataframe\">\n",
       "  <tbody>\n",
       "    <tr>\n",
       "      <th>model</th>\n",
       "      <td>lifelines.CoxPHFitter</td>\n",
       "    </tr>\n",
       "    <tr>\n",
       "      <th>duration col</th>\n",
       "      <td>'Time'</td>\n",
       "    </tr>\n",
       "    <tr>\n",
       "      <th>event col</th>\n",
       "      <td>'Death'</td>\n",
       "    </tr>\n",
       "    <tr>\n",
       "      <th>baseline estimation</th>\n",
       "      <td>breslow</td>\n",
       "    </tr>\n",
       "    <tr>\n",
       "      <th>number of observations</th>\n",
       "      <td>9170</td>\n",
       "    </tr>\n",
       "    <tr>\n",
       "      <th>number of events observed</th>\n",
       "      <td>368</td>\n",
       "    </tr>\n",
       "    <tr>\n",
       "      <th>partial log-likelihood</th>\n",
       "      <td>-3218.97</td>\n",
       "    </tr>\n",
       "    <tr>\n",
       "      <th>time fit was run</th>\n",
       "      <td>2024-10-03 23:50:38 UTC</td>\n",
       "    </tr>\n",
       "  </tbody>\n",
       "</table>\n",
       "</div><table border=\"1\" class=\"dataframe\">\n",
       "  <thead>\n",
       "    <tr style=\"text-align: right;\">\n",
       "      <th style=\"min-width: 12px;\"></th>\n",
       "      <th style=\"min-width: 12px;\">coef</th>\n",
       "      <th style=\"min-width: 12px;\">exp(coef)</th>\n",
       "      <th style=\"min-width: 12px;\">se(coef)</th>\n",
       "      <th style=\"min-width: 12px;\">coef lower 95%</th>\n",
       "      <th style=\"min-width: 12px;\">coef upper 95%</th>\n",
       "      <th style=\"min-width: 12px;\">exp(coef) lower 95%</th>\n",
       "      <th style=\"min-width: 12px;\">exp(coef) upper 95%</th>\n",
       "      <th style=\"min-width: 12px;\">cmp to</th>\n",
       "      <th style=\"min-width: 12px;\">z</th>\n",
       "      <th style=\"min-width: 12px;\">p</th>\n",
       "      <th style=\"min-width: 12px;\">-log2(p)</th>\n",
       "    </tr>\n",
       "  </thead>\n",
       "  <tbody>\n",
       "    <tr>\n",
       "      <th>Treat</th>\n",
       "      <td>-0.28</td>\n",
       "      <td>0.75</td>\n",
       "      <td>0.11</td>\n",
       "      <td>-0.49</td>\n",
       "      <td>-0.08</td>\n",
       "      <td>0.61</td>\n",
       "      <td>0.92</td>\n",
       "      <td>0.00</td>\n",
       "      <td>-2.70</td>\n",
       "      <td>0.01</td>\n",
       "      <td>7.19</td>\n",
       "    </tr>\n",
       "    <tr>\n",
       "      <th>Age</th>\n",
       "      <td>0.08</td>\n",
       "      <td>1.08</td>\n",
       "      <td>0.01</td>\n",
       "      <td>0.07</td>\n",
       "      <td>0.09</td>\n",
       "      <td>1.07</td>\n",
       "      <td>1.10</td>\n",
       "      <td>0.00</td>\n",
       "      <td>12.31</td>\n",
       "      <td>&lt;0.005</td>\n",
       "      <td>113.33</td>\n",
       "    </tr>\n",
       "    <tr>\n",
       "      <th>Gender</th>\n",
       "      <td>-0.42</td>\n",
       "      <td>0.66</td>\n",
       "      <td>0.12</td>\n",
       "      <td>-0.65</td>\n",
       "      <td>-0.19</td>\n",
       "      <td>0.52</td>\n",
       "      <td>0.83</td>\n",
       "      <td>0.00</td>\n",
       "      <td>-3.61</td>\n",
       "      <td>&lt;0.005</td>\n",
       "      <td>11.66</td>\n",
       "    </tr>\n",
       "    <tr>\n",
       "      <th>Smoking</th>\n",
       "      <td>1.02</td>\n",
       "      <td>2.78</td>\n",
       "      <td>0.15</td>\n",
       "      <td>0.73</td>\n",
       "      <td>1.32</td>\n",
       "      <td>2.08</td>\n",
       "      <td>3.73</td>\n",
       "      <td>0.00</td>\n",
       "      <td>6.84</td>\n",
       "      <td>&lt;0.005</td>\n",
       "      <td>36.87</td>\n",
       "    </tr>\n",
       "    <tr>\n",
       "      <th>Triglycerides</th>\n",
       "      <td>0.00</td>\n",
       "      <td>1.00</td>\n",
       "      <td>0.00</td>\n",
       "      <td>0.00</td>\n",
       "      <td>0.00</td>\n",
       "      <td>1.00</td>\n",
       "      <td>1.00</td>\n",
       "      <td>0.00</td>\n",
       "      <td>2.52</td>\n",
       "      <td>0.01</td>\n",
       "      <td>6.41</td>\n",
       "    </tr>\n",
       "    <tr>\n",
       "      <th>BMI</th>\n",
       "      <td>0.00</td>\n",
       "      <td>1.00</td>\n",
       "      <td>0.01</td>\n",
       "      <td>-0.02</td>\n",
       "      <td>0.02</td>\n",
       "      <td>0.98</td>\n",
       "      <td>1.02</td>\n",
       "      <td>0.00</td>\n",
       "      <td>0.25</td>\n",
       "      <td>0.81</td>\n",
       "      <td>0.31</td>\n",
       "    </tr>\n",
       "    <tr>\n",
       "      <th>total_DDD</th>\n",
       "      <td>0.05</td>\n",
       "      <td>1.06</td>\n",
       "      <td>0.02</td>\n",
       "      <td>0.01</td>\n",
       "      <td>0.10</td>\n",
       "      <td>1.01</td>\n",
       "      <td>1.10</td>\n",
       "      <td>0.00</td>\n",
       "      <td>2.29</td>\n",
       "      <td>0.02</td>\n",
       "      <td>5.49</td>\n",
       "    </tr>\n",
       "  </tbody>\n",
       "</table><br><div>\n",
       "<style scoped>\n",
       "    .dataframe tbody tr th:only-of-type {\n",
       "        vertical-align: middle;\n",
       "    }\n",
       "\n",
       "    .dataframe tbody tr th {\n",
       "        vertical-align: top;\n",
       "    }\n",
       "\n",
       "    .dataframe thead th {\n",
       "        text-align: right;\n",
       "    }\n",
       "</style>\n",
       "<table border=\"1\" class=\"dataframe\">\n",
       "  <tbody>\n",
       "    <tr>\n",
       "      <th>Concordance</th>\n",
       "      <td>0.69</td>\n",
       "    </tr>\n",
       "    <tr>\n",
       "      <th>Partial AIC</th>\n",
       "      <td>6451.94</td>\n",
       "    </tr>\n",
       "    <tr>\n",
       "      <th>log-likelihood ratio test</th>\n",
       "      <td>199.30 on 7 df</td>\n",
       "    </tr>\n",
       "    <tr>\n",
       "      <th>-log2(p) of ll-ratio test</th>\n",
       "      <td>128.86</td>\n",
       "    </tr>\n",
       "  </tbody>\n",
       "</table>\n",
       "</div>"
      ],
      "text/latex": [
       "\\begin{tabular}{lrrrrrrrrrrr}\n",
       " & coef & exp(coef) & se(coef) & coef lower 95% & coef upper 95% & exp(coef) lower 95% & exp(coef) upper 95% & cmp to & z & p & -log2(p) \\\\\n",
       "covariate &  &  &  &  &  &  &  &  &  &  &  \\\\\n",
       "Treat & -0.28 & 0.75 & 0.11 & -0.49 & -0.08 & 0.61 & 0.92 & 0.00 & -2.70 & 0.01 & 7.19 \\\\\n",
       "Age & 0.08 & 1.08 & 0.01 & 0.07 & 0.09 & 1.07 & 1.10 & 0.00 & 12.31 & 0.00 & 113.33 \\\\\n",
       "Gender & -0.42 & 0.66 & 0.12 & -0.65 & -0.19 & 0.52 & 0.83 & 0.00 & -3.61 & 0.00 & 11.66 \\\\\n",
       "Smoking & 1.02 & 2.78 & 0.15 & 0.73 & 1.32 & 2.08 & 3.73 & 0.00 & 6.84 & 0.00 & 36.87 \\\\\n",
       "Triglycerides & 0.00 & 1.00 & 0.00 & 0.00 & 0.00 & 1.00 & 1.00 & 0.00 & 2.52 & 0.01 & 6.41 \\\\\n",
       "BMI & 0.00 & 1.00 & 0.01 & -0.02 & 0.02 & 0.98 & 1.02 & 0.00 & 0.25 & 0.81 & 0.31 \\\\\n",
       "total_DDD & 0.05 & 1.06 & 0.02 & 0.01 & 0.10 & 1.01 & 1.10 & 0.00 & 2.29 & 0.02 & 5.49 \\\\\n",
       "\\end{tabular}\n"
      ],
      "text/plain": [
       "<lifelines.CoxPHFitter: fitted with 9170 total observations, 8802 right-censored observations>\n",
       "             duration col = 'Time'\n",
       "                event col = 'Death'\n",
       "      baseline estimation = breslow\n",
       "   number of observations = 9170\n",
       "number of events observed = 368\n",
       "   partial log-likelihood = -3218.97\n",
       "         time fit was run = 2024-10-03 23:50:38 UTC\n",
       "\n",
       "---\n",
       "                coef  exp(coef)   se(coef)   coef lower 95%   coef upper 95%  exp(coef) lower 95%  exp(coef) upper 95%\n",
       "covariate                                                                                                             \n",
       "Treat          -0.28       0.75       0.11            -0.49            -0.08                 0.61                 0.92\n",
       "Age             0.08       1.08       0.01             0.07             0.09                 1.07                 1.10\n",
       "Gender         -0.42       0.66       0.12            -0.65            -0.19                 0.52                 0.83\n",
       "Smoking         1.02       2.78       0.15             0.73             1.32                 2.08                 3.73\n",
       "Triglycerides   0.00       1.00       0.00             0.00             0.00                 1.00                 1.00\n",
       "BMI             0.00       1.00       0.01            -0.02             0.02                 0.98                 1.02\n",
       "total_DDD       0.05       1.06       0.02             0.01             0.10                 1.01                 1.10\n",
       "\n",
       "                cmp to     z      p   -log2(p)\n",
       "covariate                                     \n",
       "Treat             0.00 -2.70   0.01       7.19\n",
       "Age               0.00 12.31 <0.005     113.33\n",
       "Gender            0.00 -3.61 <0.005      11.66\n",
       "Smoking           0.00  6.84 <0.005      36.87\n",
       "Triglycerides     0.00  2.52   0.01       6.41\n",
       "BMI               0.00  0.25   0.81       0.31\n",
       "total_DDD         0.00  2.29   0.02       5.49\n",
       "---\n",
       "Concordance = 0.69\n",
       "Partial AIC = 6451.94\n",
       "log-likelihood ratio test = 199.30 on 7 df\n",
       "-log2(p) of ll-ratio test = 128.86"
      ]
     },
     "metadata": {},
     "output_type": "display_data"
    }
   ],
   "source": [
    "\n",
    "# Prepare the dataset for Cox regression\n",
    "data_cox = data[['Time', 'Death', 'Treat', 'Age', 'Gender', 'Smoking', 'Triglycerides', 'BMI', 'total_DDD']].dropna()\n",
    "\n",
    "# Instantiate the CoxPHFitter model\n",
    "cox_model = CoxPHFitter()\n",
    "\n",
    "# Fit the model\n",
    "cox_model.fit(data_cox, duration_col='Time', event_col='Death')\n",
    "\n",
    "# Display the summary of the Cox model\n",
    "cox_model.print_summary()\n"
   ]
  },
  {
   "cell_type": "markdown",
   "metadata": {},
   "source": [
    "The result from the multivariate Cox regression model provides several insights into the impact of different factors on the risk of death, expressed through hazard ratios (HR).\n",
    "\n",
    "\n",
    "- **Treatment (Treat)**: The hazard ratio (HR = 0.75) indicates that the intensive treatment group has a 25% reduced risk of death compared to the standard treatment group. This is statistically significant as the p-value is 0.01 (less than 0.05), which suggests that treatment type significantly affects survival.\n",
    "\n",
    "- **Age**: The hazard ratio (HR = 1.08) suggests that for each additional year of age, the risk of death increases by 8%. This result is highly statistically significant, with a p-value less than 0.005, indicating that age has a strong influence on survival.\n",
    "\n",
    "- **Gender**: The hazard ratio (HR = 0.66) suggests that females have a 34% reduced risk of death compared to males. This is also statistically significant, with a p-value less than 0.005, implying that gender significantly impacts survival.\n",
    "\n",
    "- **Smoking**: The hazard ratio (HR = 2.78) indicates that smokers have nearly a 178% higher risk of death compared to non-smokers. This result is highly significant with a p-value less than 0.005, suggesting smoking greatly increases the risk of death.\n",
    "\n",
    "- **Triglycerides, BMI, and total_DDD (Total Drug Dose)**: These factors show no significant impact on the risk of death. Their hazard ratios are close to 1, and their p-values are all greater than 0.05, meaning they do not significantly influence survival in this model.\n",
    "\n",
    "### Overall Model Fit:\n",
    "- **Concordance**: The concordance index (0.69) suggests that the model has a reasonable predictive ability, as values closer to 1 indicate better discrimination between those at risk of death and those not.\n",
    "- **Partial AIC**: The Akaike Information Criterion (6451.94) helps compare models, with lower values generally indicating a better fit.\n",
    "\n",
    "Treatment type, age, gender, and smoking are significant factors influencing the risk of death, while triglycerides, BMI, and total drug dose do not have a significant impact in this model."
   ]
  },
  {
   "cell_type": "markdown",
   "metadata": {},
   "source": [
    "5. Conduct a suitable test and a graphical diagnostic for the proportional hazards assumption for the used Cox Regression modelling."
   ]
  },
  {
   "cell_type": "markdown",
   "metadata": {},
   "source": [
    "##### Statistical Test for the PH Assumption using Schoenfeld Residuals\n",
    "Schoenfeld Residuals the the commonly statistical test that we can use for checking the proportional hazards assumption. The test checks if the residuals are independent of time, which would be expected if the PH assumption holds.\n",
    "\n",
    "I will use the `check_assumptions` method from the `lifelines` package. This method can directly assesses the proportional hazards assumption."
   ]
  },
  {
   "cell_type": "code",
   "execution_count": 17,
   "metadata": {},
   "outputs": [
    {
     "name": "stdout",
     "output_type": "stream",
     "text": [
      "Proportional hazard assumption looks okay.\n"
     ]
    },
    {
     "data": {
      "text/plain": [
       "[]"
      ]
     },
     "execution_count": 17,
     "metadata": {},
     "output_type": "execute_result"
    }
   ],
   "source": [
    "\n",
    "# Performing the proportional hazards test using `check_assumption` method\n",
    "cox_model.check_assumptions(data_cox, p_value_threshold=0.05)\n"
   ]
  },
  {
   "cell_type": "markdown",
   "metadata": {},
   "source": [
    "##### Graphical Diagnostics for Schoenfeld Residual Plots\n",
    "A graphical diagnostic tool is to plot the Schoenfeld residuals for each covariate against time. If the proportional hazards assumption holds, the residuals should show no trend over time."
   ]
  },
  {
   "cell_type": "code",
   "execution_count": 18,
   "metadata": {},
   "outputs": [
    {
     "data": {
      "text/plain": [
       "<Axes: xlabel='log(HR) (95% CI)'>"
      ]
     },
     "execution_count": 18,
     "metadata": {},
     "output_type": "execute_result"
    },
    {
     "data": {
      "image/png": "[encoded data removed]",
      "text/plain": [
       "<Figure size 640x480 with 1 Axes>"
      ]
     },
     "metadata": {},
     "output_type": "display_data"
    }
   ],
   "source": [
    "# Plot the graph of baseline survival curve and hazard ratio\n",
    "cox_model.plot()\n"
   ]
  },
  {
   "cell_type": "markdown",
   "metadata": {},
   "source": [
    "Result interpretation:\n",
    "Schoenfeld Residuals Plot (Proportional Hazards Test):\n",
    "\n",
    "In this plot I wanted to assesse if the proportional hazards assumption holds for each covariate over time.\n",
    "\n",
    "The `x-axis` represents the coefficient (log(HR)) and the `y-axis` represents the individual covariates.\n",
    "Interpretation:\n",
    "If the Schoenfeld residuals for each covariate show no trend over time, the proportional hazards assumption is valid.\n",
    "\n",
    "From the plot above, most covariates we can see that `Age`, `Gender`, and `Triglycerides` appear relatively flat, an indication that there is no significant violation of the proportional hazards assumption for these factors.\n",
    "\n",
    "Smoking shows a larger deviation, suggesting that the proportional hazards assumption might be less valid for this covariate, as it deviates from the flat line."
   ]
  },
  {
   "cell_type": "code",
   "execution_count": 19,
   "metadata": {},
   "outputs": [
    {
     "data": {
      "text/plain": [
       "<Axes: >"
      ]
     },
     "execution_count": 19,
     "metadata": {},
     "output_type": "execute_result"
    },
    {
     "data": {
      "image/png": "[encoded data removed]",
      "text/plain": [
       "<Figure size 640x480 with 1 Axes>"
      ]
     },
     "metadata": {},
     "output_type": "display_data"
    }
   ],
   "source": [
    "# Plotting the graph of survival function estimate for different groups. \n",
    "cox_model.plot_partial_effects_on_outcome(covariates=['Treat'], values=[0, 1])\n"
   ]
  },
  {
   "cell_type": "markdown",
   "metadata": {},
   "source": [
    "Result interpretation:\n",
    "The blue line represents the group that received treatment (Treat = 1), while the orange line represents the group without treatment (Treat = 0).\n",
    "The treated group (blue line) shows a steeper decline in survival over time compared to the untreated group, implying that the treatment might have been less effective or associated with a higher risk.\n",
    "The gap between the curves suggests a significant difference in survival outcomes between the two groups, further highlighting the impact of the treatment on survival.\n",
    "\n",
    "##### Generally: \n",
    "The Schoenfeld residuals indicate that the proportional hazards assumption holds reasonably well for most covariates, except for smoking, suggesting a possibility of further investigation.\n",
    "\n",
    "The partial effects plot suggests a noticeable difference in survival probabilities between the treated and untreated groups, where the treated group has a higher risk of mortality over time."
   ]
  }
 ],
 "metadata": {
  "kernelspec": {
   "display_name": "learn-env",
   "language": "python",
   "name": "python3"
  },
  "language_info": {
   "codemirror_mode": {
    "name": "ipython",
    "version": 3
   },
   "file_extension": ".py",
   "mimetype": "text/x-python",
   "name": "python",
   "nbconvert_exporter": "python",
   "pygments_lexer": "ipython3",
   "version": "3.8.5"
  }
 },
 "nbformat": 4,
 "nbformat_minor": 2
}
